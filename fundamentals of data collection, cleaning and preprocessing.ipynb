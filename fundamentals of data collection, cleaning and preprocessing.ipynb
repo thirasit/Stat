{
 "cells": [
  {
   "cell_type": "markdown",
   "id": "9aebc784-337d-4f00-9ce9-5d428129a47b",
   "metadata": {},
   "source": [
    "# **Fundamentals of data collection, cleaning and preprocessing**"
   ]
  },
  {
   "cell_type": "code",
   "execution_count": 1,
   "id": "35c3bf2a-7aa6-472e-8247-e76e6b620605",
   "metadata": {},
   "outputs": [],
   "source": [
    "import numpy as np\n",
    "import pandas as pd"
   ]
  },
  {
   "cell_type": "markdown",
   "id": "0eeecf5d-f854-4eb0-b9c2-1f14d3f11c3a",
   "metadata": {},
   "source": [
    "## **Loading data**"
   ]
  },
  {
   "cell_type": "code",
   "execution_count": 2,
   "id": "d4f219ab-30c6-41dc-9877-4076a9fb004b",
   "metadata": {},
   "outputs": [],
   "source": [
    "cols = ['mpg', 'cylinders', 'displacement', 'horsepower', 'weight', 'acceleration', 'year', 'origin', 'name']\n",
    "mpg_df = pd.read_csv(\"https://archive.ics.uci.edu/ml/machine-learning-databases/auto-mpg/auto-mpg.data-original\", \n",
    "                     delim_whitespace=True, \n",
    "                     names=cols)"
   ]
  },
  {
   "cell_type": "code",
   "execution_count": 3,
   "id": "e0fb2f1e-c805-4823-b00f-bcd49d02b077",
   "metadata": {},
   "outputs": [
    {
     "data": {
      "text/html": [
       "<div>\n",
       "<style scoped>\n",
       "    .dataframe tbody tr th:only-of-type {\n",
       "        vertical-align: middle;\n",
       "    }\n",
       "\n",
       "    .dataframe tbody tr th {\n",
       "        vertical-align: top;\n",
       "    }\n",
       "\n",
       "    .dataframe thead th {\n",
       "        text-align: right;\n",
       "    }\n",
       "</style>\n",
       "<table border=\"1\" class=\"dataframe\">\n",
       "  <thead>\n",
       "    <tr style=\"text-align: right;\">\n",
       "      <th></th>\n",
       "      <th>mpg</th>\n",
       "      <th>cylinders</th>\n",
       "      <th>displacement</th>\n",
       "      <th>horsepower</th>\n",
       "      <th>weight</th>\n",
       "      <th>acceleration</th>\n",
       "      <th>year</th>\n",
       "      <th>origin</th>\n",
       "      <th>name</th>\n",
       "    </tr>\n",
       "  </thead>\n",
       "  <tbody>\n",
       "    <tr>\n",
       "      <th>0</th>\n",
       "      <td>18.0</td>\n",
       "      <td>8.0</td>\n",
       "      <td>307.0</td>\n",
       "      <td>130.0</td>\n",
       "      <td>3504.0</td>\n",
       "      <td>12.0</td>\n",
       "      <td>70.0</td>\n",
       "      <td>1.0</td>\n",
       "      <td>chevrolet chevelle malibu</td>\n",
       "    </tr>\n",
       "    <tr>\n",
       "      <th>1</th>\n",
       "      <td>15.0</td>\n",
       "      <td>8.0</td>\n",
       "      <td>350.0</td>\n",
       "      <td>165.0</td>\n",
       "      <td>3693.0</td>\n",
       "      <td>11.5</td>\n",
       "      <td>70.0</td>\n",
       "      <td>1.0</td>\n",
       "      <td>buick skylark 320</td>\n",
       "    </tr>\n",
       "    <tr>\n",
       "      <th>2</th>\n",
       "      <td>18.0</td>\n",
       "      <td>8.0</td>\n",
       "      <td>318.0</td>\n",
       "      <td>150.0</td>\n",
       "      <td>3436.0</td>\n",
       "      <td>11.0</td>\n",
       "      <td>70.0</td>\n",
       "      <td>1.0</td>\n",
       "      <td>plymouth satellite</td>\n",
       "    </tr>\n",
       "    <tr>\n",
       "      <th>3</th>\n",
       "      <td>16.0</td>\n",
       "      <td>8.0</td>\n",
       "      <td>304.0</td>\n",
       "      <td>150.0</td>\n",
       "      <td>3433.0</td>\n",
       "      <td>12.0</td>\n",
       "      <td>70.0</td>\n",
       "      <td>1.0</td>\n",
       "      <td>amc rebel sst</td>\n",
       "    </tr>\n",
       "    <tr>\n",
       "      <th>4</th>\n",
       "      <td>17.0</td>\n",
       "      <td>8.0</td>\n",
       "      <td>302.0</td>\n",
       "      <td>140.0</td>\n",
       "      <td>3449.0</td>\n",
       "      <td>10.5</td>\n",
       "      <td>70.0</td>\n",
       "      <td>1.0</td>\n",
       "      <td>ford torino</td>\n",
       "    </tr>\n",
       "  </tbody>\n",
       "</table>\n",
       "</div>"
      ],
      "text/plain": [
       "    mpg  cylinders  displacement  horsepower  weight  acceleration  year  \\\n",
       "0  18.0        8.0         307.0       130.0  3504.0          12.0  70.0   \n",
       "1  15.0        8.0         350.0       165.0  3693.0          11.5  70.0   \n",
       "2  18.0        8.0         318.0       150.0  3436.0          11.0  70.0   \n",
       "3  16.0        8.0         304.0       150.0  3433.0          12.0  70.0   \n",
       "4  17.0        8.0         302.0       140.0  3449.0          10.5  70.0   \n",
       "\n",
       "   origin                       name  \n",
       "0     1.0  chevrolet chevelle malibu  \n",
       "1     1.0          buick skylark 320  \n",
       "2     1.0         plymouth satellite  \n",
       "3     1.0              amc rebel sst  \n",
       "4     1.0                ford torino  "
      ]
     },
     "execution_count": 3,
     "metadata": {},
     "output_type": "execute_result"
    }
   ],
   "source": [
    "mpg_df.head()"
   ]
  },
  {
   "cell_type": "code",
   "execution_count": 4,
   "id": "daa8b3fa-eb88-4324-8239-707fbf596304",
   "metadata": {},
   "outputs": [
    {
     "name": "stdout",
     "output_type": "stream",
     "text": [
      "<class 'pandas.core.frame.DataFrame'>\n",
      "RangeIndex: 406 entries, 0 to 405\n",
      "Data columns (total 9 columns):\n",
      " #   Column        Non-Null Count  Dtype  \n",
      "---  ------        --------------  -----  \n",
      " 0   mpg           398 non-null    float64\n",
      " 1   cylinders     406 non-null    float64\n",
      " 2   displacement  406 non-null    float64\n",
      " 3   horsepower    400 non-null    float64\n",
      " 4   weight        406 non-null    float64\n",
      " 5   acceleration  406 non-null    float64\n",
      " 6   year          406 non-null    float64\n",
      " 7   origin        406 non-null    float64\n",
      " 8   name          406 non-null    object \n",
      "dtypes: float64(8), object(1)\n",
      "memory usage: 28.7+ KB\n"
     ]
    }
   ],
   "source": [
    "mpg_df.info()"
   ]
  },
  {
   "cell_type": "markdown",
   "id": "6bb5a8c7-f349-48b2-86ba-a6789181ab70",
   "metadata": {},
   "source": [
    "### **Determine column type**\n",
    "According to the dataset description,\n",
    "\n",
    "1. mpg: **continuous**\n",
    "2. cylinders: multi-valued discrete\n",
    "3. displacement: **continuous**\n",
    "4. horsepower: **continuous**\n",
    "5. weight: **continuous**\n",
    "6. acceleration: **continuous**\n",
    "7. model year: multi-valued discrete\n",
    "8. origin: multi-valued discrete\n",
    "9. car name: string (unique for each instance)"
   ]
  },
  {
   "cell_type": "markdown",
   "id": "ca683a14-3396-40c6-8fe2-72de8f6fcf5b",
   "metadata": {},
   "source": [
    "## **Preprocessing**"
   ]
  },
  {
   "cell_type": "markdown",
   "id": "eee61c35-2196-4711-82f1-7fae8d4c4a3f",
   "metadata": {},
   "source": [
    "### **Perform min-max scaling**"
   ]
  },
  {
   "cell_type": "code",
   "execution_count": 5,
   "id": "c18cff42-8290-4044-ac07-c9c3b5fd4dde",
   "metadata": {},
   "outputs": [],
   "source": [
    "numerical_cols = ['mpg', 'displacement', 'horsepower', 'weight', 'acceleration']"
   ]
  },
  {
   "cell_type": "code",
   "execution_count": 6,
   "id": "2f043eb5-0c20-4072-bbdd-3f227c4ecb2f",
   "metadata": {},
   "outputs": [],
   "source": [
    "numerical_df = mpg_df[numerical_cols]"
   ]
  },
  {
   "cell_type": "code",
   "execution_count": 7,
   "id": "5925aafb-a0a8-4705-b9f7-03255b7d9d50",
   "metadata": {},
   "outputs": [
    {
     "name": "stderr",
     "output_type": "stream",
     "text": [
      "<frozen importlib._bootstrap>:219: RuntimeWarning: scipy._lib.messagestream.MessageStream size changed, may indicate binary incompatibility. Expected 56 from C header, got 64 from PyObject\n"
     ]
    },
    {
     "data": {
      "text/plain": [
       "MinMaxScaler()"
      ]
     },
     "execution_count": 7,
     "metadata": {},
     "output_type": "execute_result"
    }
   ],
   "source": [
    "from sklearn.preprocessing import MinMaxScaler\n",
    "scaler = MinMaxScaler()\n",
    "scaler.fit(numerical_df)"
   ]
  },
  {
   "cell_type": "code",
   "execution_count": 8,
   "id": "ed15e18e-b7dc-4c2e-8286-67a199ee9a33",
   "metadata": {},
   "outputs": [],
   "source": [
    "numerical_df_scaled = pd.DataFrame(scaler.transform(numerical_df),columns=numerical_cols)"
   ]
  },
  {
   "cell_type": "code",
   "execution_count": 9,
   "id": "f74acb99-4796-48d5-9a96-da69403fb944",
   "metadata": {},
   "outputs": [
    {
     "data": {
      "text/html": [
       "<div>\n",
       "<style scoped>\n",
       "    .dataframe tbody tr th:only-of-type {\n",
       "        vertical-align: middle;\n",
       "    }\n",
       "\n",
       "    .dataframe tbody tr th {\n",
       "        vertical-align: top;\n",
       "    }\n",
       "\n",
       "    .dataframe thead th {\n",
       "        text-align: right;\n",
       "    }\n",
       "</style>\n",
       "<table border=\"1\" class=\"dataframe\">\n",
       "  <thead>\n",
       "    <tr style=\"text-align: right;\">\n",
       "      <th></th>\n",
       "      <th>mpg</th>\n",
       "      <th>displacement</th>\n",
       "      <th>horsepower</th>\n",
       "      <th>weight</th>\n",
       "      <th>acceleration</th>\n",
       "    </tr>\n",
       "  </thead>\n",
       "  <tbody>\n",
       "    <tr>\n",
       "      <th>0</th>\n",
       "      <td>0.239362</td>\n",
       "      <td>0.617571</td>\n",
       "      <td>0.456522</td>\n",
       "      <td>0.536150</td>\n",
       "      <td>0.238095</td>\n",
       "    </tr>\n",
       "    <tr>\n",
       "      <th>1</th>\n",
       "      <td>0.159574</td>\n",
       "      <td>0.728682</td>\n",
       "      <td>0.646739</td>\n",
       "      <td>0.589736</td>\n",
       "      <td>0.208333</td>\n",
       "    </tr>\n",
       "    <tr>\n",
       "      <th>2</th>\n",
       "      <td>0.239362</td>\n",
       "      <td>0.645995</td>\n",
       "      <td>0.565217</td>\n",
       "      <td>0.516870</td>\n",
       "      <td>0.178571</td>\n",
       "    </tr>\n",
       "    <tr>\n",
       "      <th>3</th>\n",
       "      <td>0.186170</td>\n",
       "      <td>0.609819</td>\n",
       "      <td>0.565217</td>\n",
       "      <td>0.516019</td>\n",
       "      <td>0.238095</td>\n",
       "    </tr>\n",
       "    <tr>\n",
       "      <th>4</th>\n",
       "      <td>0.212766</td>\n",
       "      <td>0.604651</td>\n",
       "      <td>0.510870</td>\n",
       "      <td>0.520556</td>\n",
       "      <td>0.148810</td>\n",
       "    </tr>\n",
       "  </tbody>\n",
       "</table>\n",
       "</div>"
      ],
      "text/plain": [
       "        mpg  displacement  horsepower    weight  acceleration\n",
       "0  0.239362      0.617571    0.456522  0.536150      0.238095\n",
       "1  0.159574      0.728682    0.646739  0.589736      0.208333\n",
       "2  0.239362      0.645995    0.565217  0.516870      0.178571\n",
       "3  0.186170      0.609819    0.565217  0.516019      0.238095\n",
       "4  0.212766      0.604651    0.510870  0.520556      0.148810"
      ]
     },
     "execution_count": 9,
     "metadata": {},
     "output_type": "execute_result"
    }
   ],
   "source": [
    "numerical_df_scaled.head()"
   ]
  },
  {
   "cell_type": "markdown",
   "id": "bc902755-e2b0-4af1-bd40-2387bb879d9f",
   "metadata": {},
   "source": [
    "Update the original DataFrame with the new DataFrame using [`update`](https://pandas.pydata.org/pandas-docs/stable/reference/api/pandas.DataFrame.update.html) method."
   ]
  },
  {
   "cell_type": "code",
   "execution_count": 10,
   "id": "dd31df3f-9bce-4d4b-997a-b71dd8d733d0",
   "metadata": {},
   "outputs": [],
   "source": [
    "mpg_df.update(numerical_df_scaled)"
   ]
  },
  {
   "cell_type": "code",
   "execution_count": 11,
   "id": "14a911d7-ffee-498a-9a7d-c1d57416cb68",
   "metadata": {},
   "outputs": [
    {
     "data": {
      "text/html": [
       "<div>\n",
       "<style scoped>\n",
       "    .dataframe tbody tr th:only-of-type {\n",
       "        vertical-align: middle;\n",
       "    }\n",
       "\n",
       "    .dataframe tbody tr th {\n",
       "        vertical-align: top;\n",
       "    }\n",
       "\n",
       "    .dataframe thead th {\n",
       "        text-align: right;\n",
       "    }\n",
       "</style>\n",
       "<table border=\"1\" class=\"dataframe\">\n",
       "  <thead>\n",
       "    <tr style=\"text-align: right;\">\n",
       "      <th></th>\n",
       "      <th>mpg</th>\n",
       "      <th>cylinders</th>\n",
       "      <th>displacement</th>\n",
       "      <th>horsepower</th>\n",
       "      <th>weight</th>\n",
       "      <th>acceleration</th>\n",
       "      <th>year</th>\n",
       "      <th>origin</th>\n",
       "      <th>name</th>\n",
       "    </tr>\n",
       "  </thead>\n",
       "  <tbody>\n",
       "    <tr>\n",
       "      <th>0</th>\n",
       "      <td>0.239362</td>\n",
       "      <td>8.0</td>\n",
       "      <td>0.617571</td>\n",
       "      <td>0.456522</td>\n",
       "      <td>0.536150</td>\n",
       "      <td>0.238095</td>\n",
       "      <td>70.0</td>\n",
       "      <td>1.0</td>\n",
       "      <td>chevrolet chevelle malibu</td>\n",
       "    </tr>\n",
       "    <tr>\n",
       "      <th>1</th>\n",
       "      <td>0.159574</td>\n",
       "      <td>8.0</td>\n",
       "      <td>0.728682</td>\n",
       "      <td>0.646739</td>\n",
       "      <td>0.589736</td>\n",
       "      <td>0.208333</td>\n",
       "      <td>70.0</td>\n",
       "      <td>1.0</td>\n",
       "      <td>buick skylark 320</td>\n",
       "    </tr>\n",
       "    <tr>\n",
       "      <th>2</th>\n",
       "      <td>0.239362</td>\n",
       "      <td>8.0</td>\n",
       "      <td>0.645995</td>\n",
       "      <td>0.565217</td>\n",
       "      <td>0.516870</td>\n",
       "      <td>0.178571</td>\n",
       "      <td>70.0</td>\n",
       "      <td>1.0</td>\n",
       "      <td>plymouth satellite</td>\n",
       "    </tr>\n",
       "    <tr>\n",
       "      <th>3</th>\n",
       "      <td>0.186170</td>\n",
       "      <td>8.0</td>\n",
       "      <td>0.609819</td>\n",
       "      <td>0.565217</td>\n",
       "      <td>0.516019</td>\n",
       "      <td>0.238095</td>\n",
       "      <td>70.0</td>\n",
       "      <td>1.0</td>\n",
       "      <td>amc rebel sst</td>\n",
       "    </tr>\n",
       "    <tr>\n",
       "      <th>4</th>\n",
       "      <td>0.212766</td>\n",
       "      <td>8.0</td>\n",
       "      <td>0.604651</td>\n",
       "      <td>0.510870</td>\n",
       "      <td>0.520556</td>\n",
       "      <td>0.148810</td>\n",
       "      <td>70.0</td>\n",
       "      <td>1.0</td>\n",
       "      <td>ford torino</td>\n",
       "    </tr>\n",
       "  </tbody>\n",
       "</table>\n",
       "</div>"
      ],
      "text/plain": [
       "        mpg  cylinders  displacement  horsepower    weight  acceleration  \\\n",
       "0  0.239362        8.0      0.617571    0.456522  0.536150      0.238095   \n",
       "1  0.159574        8.0      0.728682    0.646739  0.589736      0.208333   \n",
       "2  0.239362        8.0      0.645995    0.565217  0.516870      0.178571   \n",
       "3  0.186170        8.0      0.609819    0.565217  0.516019      0.238095   \n",
       "4  0.212766        8.0      0.604651    0.510870  0.520556      0.148810   \n",
       "\n",
       "   year  origin                       name  \n",
       "0  70.0     1.0  chevrolet chevelle malibu  \n",
       "1  70.0     1.0          buick skylark 320  \n",
       "2  70.0     1.0         plymouth satellite  \n",
       "3  70.0     1.0              amc rebel sst  \n",
       "4  70.0     1.0                ford torino  "
      ]
     },
     "execution_count": 11,
     "metadata": {},
     "output_type": "execute_result"
    }
   ],
   "source": [
    "mpg_df.head()"
   ]
  },
  {
   "cell_type": "markdown",
   "id": "2e0f4261-5798-4ff3-b46c-14220a6b4ded",
   "metadata": {},
   "source": [
    "### **Perform imputation**"
   ]
  },
  {
   "cell_type": "code",
   "execution_count": 12,
   "id": "27bd2ee3-f1d4-4dde-96c9-b60673bd029f",
   "metadata": {},
   "outputs": [
    {
     "data": {
      "text/plain": [
       "mpg             8\n",
       "cylinders       0\n",
       "displacement    0\n",
       "horsepower      6\n",
       "weight          0\n",
       "acceleration    0\n",
       "year            0\n",
       "origin          0\n",
       "name            0\n",
       "dtype: int64"
      ]
     },
     "execution_count": 12,
     "metadata": {},
     "output_type": "execute_result"
    }
   ],
   "source": [
    "np.sum(pd.isnull(mpg_df))"
   ]
  },
  {
   "cell_type": "markdown",
   "id": "cf0d6c73-6823-421a-a291-d4cd7e27e48e",
   "metadata": {},
   "source": [
    "Since `mpg` and `horsepower` are all numerical and no other columns have missing values. We can safely use `fillna()` function."
   ]
  },
  {
   "cell_type": "code",
   "execution_count": 13,
   "id": "bafde547-63d2-4099-82a8-01a1b262579c",
   "metadata": {},
   "outputs": [
    {
     "name": "stderr",
     "output_type": "stream",
     "text": [
      "/tmp/ipykernel_92/3011327616.py:1: FutureWarning: Dropping of nuisance columns in DataFrame reductions (with 'numeric_only=None') is deprecated; in a future version this will raise TypeError.  Select only valid columns before calling the reduction.\n",
      "  mpg_df.mean()\n"
     ]
    },
    {
     "data": {
      "text/plain": [
       "mpg              0.386026\n",
       "cylinders        5.475369\n",
       "displacement     0.327596\n",
       "horsepower       0.321101\n",
       "weight           0.387415\n",
       "acceleration     0.447601\n",
       "year            75.921182\n",
       "origin           1.568966\n",
       "dtype: float64"
      ]
     },
     "execution_count": 13,
     "metadata": {},
     "output_type": "execute_result"
    }
   ],
   "source": [
    "mpg_df.mean()"
   ]
  },
  {
   "cell_type": "code",
   "execution_count": 14,
   "id": "6ad7279d-02fc-42fb-b7c1-914e16d8c368",
   "metadata": {},
   "outputs": [
    {
     "name": "stderr",
     "output_type": "stream",
     "text": [
      "/tmp/ipykernel_92/4242741314.py:1: FutureWarning: Dropping of nuisance columns in DataFrame reductions (with 'numeric_only=None') is deprecated; in a future version this will raise TypeError.  Select only valid columns before calling the reduction.\n",
      "  mpg_df = mpg_df.fillna(mpg_df.mean())\n"
     ]
    }
   ],
   "source": [
    "mpg_df = mpg_df.fillna(mpg_df.mean())"
   ]
  }
 ],
 "metadata": {
  "kernelspec": {
   "display_name": "Qiskit v0.34.2 (ipykernel)",
   "language": "python",
   "name": "python3"
  },
  "language_info": {
   "codemirror_mode": {
    "name": "ipython",
    "version": 3
   },
   "file_extension": ".py",
   "mimetype": "text/x-python",
   "name": "python",
   "nbconvert_exporter": "python",
   "pygments_lexer": "ipython3",
   "version": "3.8.12"
  },
  "widgets": {
   "application/vnd.jupyter.widget-state+json": {
    "state": {},
    "version_major": 2,
    "version_minor": 0
   }
  }
 },
 "nbformat": 4,
 "nbformat_minor": 5
}
